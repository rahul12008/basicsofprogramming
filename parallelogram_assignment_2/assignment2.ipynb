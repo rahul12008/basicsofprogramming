{
  "nbformat": 4,
  "nbformat_minor": 0,
  "metadata": {
    "colab": {
      "name": "Untitled5.ipynb",
      "provenance": []
    },
    "kernelspec": {
      "name": "python3",
      "display_name": "Python 3"
    },
    "language_info": {
      "name": "python"
    }
  },
  "cells": [
    {
      "cell_type": "code",
      "metadata": {
        "colab": {
          "base_uri": "https://localhost:8080/"
        },
        "id": "fmtIkC1-J1_V",
        "outputId": "2291e71d-8f31-4212-91aa-7ed1dab22353"
      },
      "source": [
        "import numpy as np\n",
        "import math\n",
        "x1 = float(input(\"x coordinate of the point A: \"))\n",
        "y1 = float(input(\"y coordinate of the point A: \"))\n",
        "x2 = float(input(\"x coordinate of the point B: \"))\n",
        "y2 = float(input(\"y coordinate of the point B: \"))\n",
        "x3 = float(input(\"x coordinate of the point C: \"))\n",
        "y3 = float(input(\"y coordinate of the point C: \"))\n",
        "import math\n",
        "A = np.array([[x1],[y1]]) \n",
        "B = np.array([[x2],[y2]])\n",
        "C = np.array([[x3],[y3]])\n",
        "T1 = (B + A)/2\n",
        "x4=2*T1[0]-x3\n",
        "y4=2*T1[1]-y3\n",
        "print(x4,y4)\n"
      ],
      "execution_count": 57,
      "outputs": [
        {
          "output_type": "stream",
          "name": "stdout",
          "text": [
            "x coordinate of the point A: 5\n",
            "y coordinate of the point A: 10\n",
            "x coordinate of the point B: 20\n",
            "y coordinate of the point B: 20\n",
            "x coordinate of the point C: 10\n",
            "y coordinate of the point C: 20\n",
            "[15.] [10.]\n"
          ]
        }
      ]
    },
    {
      "cell_type": "code",
      "metadata": {
        "colab": {
          "base_uri": "https://localhost:8080/",
          "height": 322
        },
        "id": "6uL3bUlfcsAv",
        "outputId": "1adda3b3-3614-4797-c3c1-79d98713dfc9"
      },
      "source": [
        "import numpy as np\n",
        "import matplotlib.pyplot as plt\n",
        "from matplotlib.patches import Polygon\n",
        "pts = np.array([[x1,y1], [x3,y3], [x2,y2],[x4,y4]])\n",
        "p = Polygon(pts, closed=False)\n",
        "ax = plt.gca()\n",
        "ax.add_patch(p)\n",
        "ax.set_xlim(1,50)\n",
        "ax.set_ylim(1,50)\n",
        "plt.grid()"
      ],
      "execution_count": 71,
      "outputs": [
        {
          "output_type": "stream",
          "name": "stderr",
          "text": [
            "/usr/local/lib/python3.7/dist-packages/ipykernel_launcher.py:4: VisibleDeprecationWarning: Creating an ndarray from ragged nested sequences (which is a list-or-tuple of lists-or-tuples-or ndarrays with different lengths or shapes) is deprecated. If you meant to do this, you must specify 'dtype=object' when creating the ndarray\n",
            "  after removing the cwd from sys.path.\n"
          ]
        },
        {
          "output_type": "display_data",
          "data": {
            "image/png": "[encoded data removed]",
            "text/plain": [
              "<Figure size 432x288 with 1 Axes>"
            ]
          },
          "metadata": {
            "needs_background": "light"
          }
        }
      ]
    }
  ]
}